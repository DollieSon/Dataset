{
 "cells": [
  {
   "cell_type": "code",
   "execution_count": 1,
   "metadata": {},
   "outputs": [],
   "source": [
    "import numpy as np\n",
    "import pandas as pd\n",
    "from mlxtend.frequent_patterns import apriori, association_rules "
   ]
  },
  {
   "cell_type": "code",
   "execution_count": 2,
   "metadata": {},
   "outputs": [
    {
     "data": {
      "text/html": [
       "<div>\n",
       "<style scoped>\n",
       "    .dataframe tbody tr th:only-of-type {\n",
       "        vertical-align: middle;\n",
       "    }\n",
       "\n",
       "    .dataframe tbody tr th {\n",
       "        vertical-align: top;\n",
       "    }\n",
       "\n",
       "    .dataframe thead th {\n",
       "        text-align: right;\n",
       "    }\n",
       "</style>\n",
       "<table border=\"1\" class=\"dataframe\">\n",
       "  <thead>\n",
       "    <tr style=\"text-align: right;\">\n",
       "      <th></th>\n",
       "      <th>Unnamed: 0</th>\n",
       "      <th>AppID</th>\n",
       "      <th>Genres</th>\n",
       "    </tr>\n",
       "  </thead>\n",
       "  <tbody>\n",
       "    <tr>\n",
       "      <th>0</th>\n",
       "      <td>578080</td>\n",
       "      <td>PUBG: BATTLEGROUNDS</td>\n",
       "      <td>Action</td>\n",
       "    </tr>\n",
       "    <tr>\n",
       "      <th>1</th>\n",
       "      <td>578080</td>\n",
       "      <td>PUBG: BATTLEGROUNDS</td>\n",
       "      <td>Adventure</td>\n",
       "    </tr>\n",
       "    <tr>\n",
       "      <th>2</th>\n",
       "      <td>578080</td>\n",
       "      <td>PUBG: BATTLEGROUNDS</td>\n",
       "      <td>Free to Play</td>\n",
       "    </tr>\n",
       "    <tr>\n",
       "      <th>3</th>\n",
       "      <td>578080</td>\n",
       "      <td>PUBG: BATTLEGROUNDS</td>\n",
       "      <td>Massively Multiplayer</td>\n",
       "    </tr>\n",
       "    <tr>\n",
       "      <th>4</th>\n",
       "      <td>730</td>\n",
       "      <td>Counter-Strike: Global Offensive</td>\n",
       "      <td>Action</td>\n",
       "    </tr>\n",
       "  </tbody>\n",
       "</table>\n",
       "</div>"
      ],
      "text/plain": [
       "   Unnamed: 0                             AppID                 Genres\n",
       "0      578080               PUBG: BATTLEGROUNDS                 Action\n",
       "1      578080               PUBG: BATTLEGROUNDS              Adventure\n",
       "2      578080               PUBG: BATTLEGROUNDS           Free to Play\n",
       "3      578080               PUBG: BATTLEGROUNDS  Massively Multiplayer\n",
       "4         730  Counter-Strike: Global Offensive                 Action"
      ]
     },
     "execution_count": 2,
     "metadata": {},
     "output_type": "execute_result"
    }
   ],
   "source": [
    "Genre = pd.read_csv('Genres_1000.csv')\n",
    "Categories = pd.read_csv('Categories_1000.csv')\n",
    "Tags = pd.read_csv('Tags_1000.csv')\n",
    "Genre.head()"
   ]
  },
  {
   "cell_type": "code",
   "execution_count": 3,
   "metadata": {},
   "outputs": [
    {
     "name": "stdout",
     "output_type": "stream",
     "text": [
      "Index(['ID', 'AppID', 'Genres'], dtype='object')\n",
      "Index(['ID', 'AppID', 'Categories'], dtype='object')\n",
      "Index(['ID', 'AppID', 'Tags'], dtype='object')\n"
     ]
    }
   ],
   "source": [
    "G_Col = Genre.columns.to_list()\n",
    "C_Col = Categories.columns.to_list()\n",
    "Tags_Col = Tags.columns.to_list()\n",
    "\n",
    "\n",
    "G_Col[0] = 'ID'\n",
    "C_Col[0] = 'ID'\n",
    "Tags_Col[0] = 'ID'\n",
    "\n",
    "Genre.columns = G_Col\n",
    "Categories.columns = C_Col\n",
    "Tags.columns = Tags_Col\n",
    "\n",
    "print(Genre.columns)\n",
    "print(Categories.columns)\n",
    "print(Tags.columns)\n"
   ]
  },
  {
   "cell_type": "code",
   "execution_count": 4,
   "metadata": {},
   "outputs": [],
   "source": [
    "#basket_genre = (Genre.groupby(\"AppID\")[\"Categories\"].sum().unstack().reset_index().fillna(0).set_index('AppID'))\n",
    "# basket_Genre = (Genre.groupby(['AppID', 'Genres']).sum().unstack().reset_index().fillna(0).set_index('AppID')) \n",
    "# basket_Categories = (Categories.groupby(['AppID', 'Categories']).sum().unstack().reset_index().fillna(0).set_index('AppID')) \n",
    "# basket_Tags = (Tags.groupby(['AppID', 'Tags']).sum().unstack().reset_index().fillna(0).set_index('AppID'))"
   ]
  },
  {
   "cell_type": "code",
   "execution_count": 5,
   "metadata": {},
   "outputs": [],
   "source": [
    "#print the number of genres and how much they appear\n",
    "# print(basket_Genre)\n",
    "# Genre['Genres'].value_counts()\n",
    "# Categories['Categories'].value_counts()\n",
    "# Tags['Tags'].value_counts()\n",
    "\n",
    "def aprioritize(dataframe,column,metric,threshhold):\n",
    "    basket = dataframe.pivot_table(index='ID', columns=column, aggfunc='size', fill_value=0)\n",
    "    # Apply the Apriori algorithm\n",
    "    frq_items = apriori(basket, min_support=0.01, use_colnames=True)\n",
    "\n",
    "    # Collecting the inferred rules in a dataframe\n",
    "    rules = association_rules(frq_items, metric=metric, min_threshold=threshhold, support_only=False,num_itemsets=len(frq_items))\n",
    "    rules = rules.sort_values([metric], ascending=[False])\n",
    "\n",
    "    print(rules)\n",
    "    rules.to_csv(f\"{column}_1000_Apriori_{metric}.csv\")"
   ]
  },
  {
   "cell_type": "code",
   "execution_count": 6,
   "metadata": {},
   "outputs": [
    {
     "name": "stdout",
     "output_type": "stream",
     "text": [
      "                                           antecedents  \\\n",
      "489             (Massively Multiplayer, RPG, Strategy)   \n",
      "347       (Massively Multiplayer, Strategy, Adventure)   \n",
      "780  (Massively Multiplayer, RPG, Strategy, Adventure)   \n",
      "641       (Massively Multiplayer, RPG, Casual, Action)   \n",
      "458         (Massively Multiplayer, Indie, Simulation)   \n",
      "..                                                 ...   \n",
      "74                                  (Strategy, Action)   \n",
      "480                                (Indie, Simulation)   \n",
      "588                                       (RPG, Indie)   \n",
      "474                               (Simulation, Action)   \n",
      "716                             (Free to Play, Action)   \n",
      "\n",
      "                                 consequents  antecedent support  \\\n",
      "489                                 (Action)            0.015015   \n",
      "347                                 (Action)            0.014014   \n",
      "780                                 (Action)            0.012012   \n",
      "641                              (Adventure)            0.011011   \n",
      "458                                 (Action)            0.016016   \n",
      "..                                       ...                 ...   \n",
      "74                            (Early Access)            0.080080   \n",
      "480                       (Strategy, Action)            0.104104   \n",
      "588                  (Simulation, Adventure)            0.096096   \n",
      "474                             (RPG, Indie)            0.091091   \n",
      "716  (Massively Multiplayer, RPG, Adventure)            0.128128   \n",
      "\n",
      "     consequent support   support  confidence      lift  representativity  \\\n",
      "489            0.679680  0.015015    1.000000  1.471281               1.0   \n",
      "347            0.679680  0.014014    1.000000  1.471281               1.0   \n",
      "780            0.679680  0.012012    1.000000  1.471281               1.0   \n",
      "641            0.378378  0.011011    1.000000  2.642857               1.0   \n",
      "458            0.679680  0.016016    1.000000  1.471281               1.0   \n",
      "..                  ...       ...         ...       ...               ...   \n",
      "74             0.082082  0.014014    0.175000  2.132012               1.0   \n",
      "480            0.080080  0.018018    0.173077  2.161298               1.0   \n",
      "588            0.062062  0.015015    0.156250  2.517641               1.0   \n",
      "474            0.096096  0.017017    0.186813  1.944025               1.0   \n",
      "716            0.045045  0.018018    0.140625  3.121875               1.0   \n",
      "\n",
      "     leverage  conviction  zhangs_metric   jaccard  certainty  kulczynski  \n",
      "489  0.004810         inf       0.325203  0.022091   1.000000    0.511046  \n",
      "347  0.004489         inf       0.324873  0.020619   1.000000    0.510309  \n",
      "780  0.003848         inf       0.324215  0.017673   1.000000    0.508837  \n",
      "641  0.006845         inf       0.628543  0.029101   1.000000    0.514550  \n",
      "458  0.005130         inf       0.325534  0.023564   1.000000    0.511782  \n",
      "..        ...         ...            ...       ...        ...         ...  \n",
      "74   0.007441    1.112628       0.577180  0.094595   0.101227    0.172866  \n",
      "480  0.009681    1.112461       0.599752  0.108434   0.101092    0.199038  \n",
      "588  0.009051    1.111630       0.666888  0.104895   0.100420    0.199093  \n",
      "474  0.008264    1.111558       0.534271  0.100000   0.100361    0.181948  \n",
      "716  0.012246    1.111220       0.779564  0.116129   0.100088    0.270313  \n",
      "\n",
      "[811 rows x 14 columns]\n"
     ]
    },
    {
     "name": "stderr",
     "output_type": "stream",
     "text": [
      "c:\\Users\\ray anthony\\AppData\\Local\\Programs\\Python\\Python312\\Lib\\site-packages\\mlxtend\\frequent_patterns\\fpcommon.py:161: DeprecationWarning: DataFrames with non-bool types result in worse computationalperformance and their support might be discontinued in the future.Please use a DataFrame with bool type\n",
      "  warnings.warn(\n"
     ]
    }
   ],
   "source": [
    "# Create a basket format DataFrame\n",
    "aprioritize(Genre,'Genres','certainty',0.1)"
   ]
  },
  {
   "cell_type": "code",
   "execution_count": 7,
   "metadata": {},
   "outputs": [
    {
     "name": "stderr",
     "output_type": "stream",
     "text": [
      "C:\\Users\\ray anthony\\AppData\\Local\\Temp\\ipykernel_3500\\1982766414.py:4: FutureWarning: DataFrame.applymap has been deprecated. Use DataFrame.map instead.\n",
      "  basket = basket.applymap(lambda x: 1 if x > 0 else 0)\n",
      "c:\\Users\\ray anthony\\AppData\\Local\\Programs\\Python\\Python312\\Lib\\site-packages\\mlxtend\\frequent_patterns\\fpcommon.py:161: DeprecationWarning: DataFrames with non-bool types result in worse computationalperformance and their support might be discontinued in the future.Please use a DataFrame with bool type\n",
      "  warnings.warn(\n"
     ]
    },
    {
     "name": "stdout",
     "output_type": "stream",
     "text": [
      "                             antecedents  \\\n",
      "126     (Single-player, Online PvP, PvP)   \n",
      "56                     (Online PvP, PvP)   \n",
      "31                 (Co-op, Online Co-op)   \n",
      "65                  (Single-player, PvP)   \n",
      "13                                 (PvP)   \n",
      "..                                   ...   \n",
      "25                  (Steam Achievements)   \n",
      "97                  (Steam Achievements)   \n",
      "153  (Steam Achievements, Single-player)   \n",
      "109                 (Steam Achievements)   \n",
      "157                 (Steam Achievements)   \n",
      "\n",
      "                                           consequents  antecedent support  \\\n",
      "126                                     (Multi-player)            0.054024   \n",
      "56                                      (Multi-player)            0.083730   \n",
      "31                                      (Multi-player)            0.055925   \n",
      "65                                      (Multi-player)            0.082746   \n",
      "13                                      (Multi-player)            0.118572   \n",
      "..                                                 ...                 ...   \n",
      "25                                (Steam Leaderboards)            0.450671   \n",
      "97                 (Steam Leaderboards, Single-player)            0.450671   \n",
      "153                 (Steam Trading Cards, Steam Cloud)            0.438135   \n",
      "109                 (Steam Trading Cards, Steam Cloud)            0.450671   \n",
      "157  (Steam Trading Cards, Steam Cloud, Single-player)            0.450671   \n",
      "\n",
      "     consequent support   support  confidence      lift  representativity  \\\n",
      "126            0.187962  0.054024    1.000000  5.320212               1.0   \n",
      "56             0.187962  0.083719    0.999869  5.319517               1.0   \n",
      "31             0.187962  0.055903    0.999609  5.318132               1.0   \n",
      "65             0.187962  0.082702    0.999472  5.317401               1.0   \n",
      "13             0.187962  0.118496    0.999355  5.316779               1.0   \n",
      "..                  ...       ...         ...       ...               ...   \n",
      "25             0.080724  0.072101    0.159985  1.981883               1.0   \n",
      "97             0.078746  0.070680    0.156833  1.991635               1.0   \n",
      "153            0.057871  0.052953    0.120859  2.088432               1.0   \n",
      "109            0.057871  0.053827    0.119437  2.063864               1.0   \n",
      "157            0.056909  0.052953    0.117497  2.064653               1.0   \n",
      "\n",
      "     leverage   conviction  zhangs_metric   jaccard  certainty  kulczynski  \n",
      "126  0.043869          inf       0.858412  0.287417   1.000000    0.643709  \n",
      "56   0.067981  6221.019695       0.886215  0.445375   0.999839    0.722635  \n",
      "31   0.045392  2077.598080       0.860063  0.297384   0.999519    0.648514  \n",
      "65   0.067149  1536.984079       0.885183  0.439891   0.999349    0.719732  \n",
      "13   0.096209  1258.542202       0.921137  0.630166   0.999205    0.814888  \n",
      "..        ...          ...            ...       ...        ...         ...  \n",
      "25   0.035721     1.094357       0.901880  0.156982   0.086222    0.526581  \n",
      "97   0.035192     1.092612       0.906378  0.154075   0.084762    0.527202  \n",
      "153  0.027597     1.071648       0.927574  0.119517   0.066857    0.517937  \n",
      "109  0.027746     1.069917       0.938366  0.118375   0.065348    0.524780  \n",
      "157  0.027305     1.068655       0.938703  0.116475   0.064244    0.523988  \n",
      "\n",
      "[160 rows x 14 columns]\n"
     ]
    }
   ],
   "source": [
    "# Create a basket format DataFrame\n",
    "basket = Categories.pivot_table(index='ID', columns='Categories', aggfunc='size', fill_value=0)\n",
    "# Convert the values to binary\n",
    "basket = basket.applymap(lambda x: 1 if x > 0 else 0)\n",
    "# Apply the Apriori algorithm\n",
    "frq_items = apriori(basket, min_support=0.05, use_colnames=True)\n",
    "\n",
    "# Collecting the inferred rules in a dataframe\n",
    "rules = association_rules(frq_items, metric=\"lift\", min_threshold=1.5, support_only=False,num_itemsets=len(frq_items))\n",
    "rules = rules.sort_values(['confidence', 'lift'], ascending=[False, False])\n",
    "\n",
    "print(rules)\n",
    "rules.to_csv(\"Categories_Apriori.csv\")"
   ]
  },
  {
   "cell_type": "code",
   "execution_count": 8,
   "metadata": {},
   "outputs": [
    {
     "name": "stderr",
     "output_type": "stream",
     "text": [
      "C:\\Users\\ray anthony\\AppData\\Local\\Temp\\ipykernel_3500\\3587302344.py:4: FutureWarning: DataFrame.applymap has been deprecated. Use DataFrame.map instead.\n",
      "  basket = basket.applymap(lambda x: 1 if x > 0 else 0)\n",
      "c:\\Users\\ray anthony\\AppData\\Local\\Programs\\Python\\Python312\\Lib\\site-packages\\mlxtend\\frequent_patterns\\fpcommon.py:161: DeprecationWarning: DataFrames with non-bool types result in worse computationalperformance and their support might be discontinued in the future.Please use a DataFrame with bool type\n",
      "  warnings.warn(\n"
     ]
    },
    {
     "name": "stdout",
     "output_type": "stream",
     "text": [
      "                 antecedents                      consequents  \\\n",
      "129         (Indie, Shooter)                         (Action)   \n",
      "31                 (Shooter)                         (Action)   \n",
      "135  (Shooter, Singleplayer)                         (Action)   \n",
      "102              (Indie, 3D)                   (Singleplayer)   \n",
      "215      (Indie, 2D, Casual)                   (Singleplayer)   \n",
      "..                       ...                              ...   \n",
      "232           (Singleplayer)      (Pixel Graphics, Indie, 2D)   \n",
      "193           (Singleplayer)             (Indie, Exploration)   \n",
      "243           (Singleplayer)  (Adventure, Indie, Atmospheric)   \n",
      "197           (Singleplayer)            (First-Person, Indie)   \n",
      "195           (Singleplayer)                 (Fantasy, Indie)   \n",
      "\n",
      "     antecedent support  consequent support   support  confidence      lift  \\\n",
      "129            0.054297            0.447662  0.050660    0.933025  2.084216   \n",
      "31             0.104247            0.447662  0.097137    0.931792  2.081464   \n",
      "135            0.066936            0.447662  0.062264    0.930212  2.077933   \n",
      "102            0.079471            0.531332  0.070942    0.892671  1.680064   \n",
      "215            0.094771            0.531332  0.082694    0.872563  1.642218   \n",
      "..                  ...                 ...       ...         ...       ...   \n",
      "232            0.531332            0.069523  0.058805    0.110675  1.591930   \n",
      "193            0.531332            0.066655  0.057002    0.107281  1.609500   \n",
      "243            0.531332            0.065679  0.056366    0.106085  1.615194   \n",
      "197            0.531332            0.067054  0.054518    0.102607  1.530214   \n",
      "195            0.531332            0.062678  0.051990    0.097849  1.561136   \n",
      "\n",
      "     representativity  leverage  conviction  zhangs_metric   jaccard  \\\n",
      "129               1.0  0.026354    8.246898       0.550070  0.112254   \n",
      "31                1.0  0.050469    8.097893       0.580036  0.213594   \n",
      "135               1.0  0.032300    7.914512       0.555967  0.137652   \n",
      "102               1.0  0.028716    4.366656       0.439730  0.131407   \n",
      "215               1.0  0.032339    3.677640       0.432010  0.152176   \n",
      "..                ...       ...         ...            ...       ...   \n",
      "232               1.0  0.021866    1.046274       0.793379  0.108487   \n",
      "193               1.0  0.021586    1.045508       0.808011  0.105367   \n",
      "243               1.0  0.021469    1.045201       0.812684  0.104257   \n",
      "197               1.0  0.018890    1.039618       0.739322  0.100242   \n",
      "195               1.0  0.018687    1.038986       0.766941  0.095920   \n",
      "\n",
      "     certainty  kulczynski  \n",
      "129   0.878742    0.523095  \n",
      "31    0.876511    0.574389  \n",
      "135   0.873650    0.534650  \n",
      "102   0.770992    0.513094  \n",
      "215   0.728087    0.514099  \n",
      "..         ...         ...  \n",
      "232   0.044227    0.478259  \n",
      "193   0.043527    0.481230  \n",
      "243   0.043246    0.482144  \n",
      "197   0.038108    0.457829  \n",
      "195   0.037523    0.463665  \n",
      "\n",
      "[254 rows x 14 columns]\n"
     ]
    }
   ],
   "source": [
    "# Create a basket format DataFrame\n",
    "basket = Tags.pivot_table(index='ID', columns='Tags', aggfunc='size', fill_value=0)\n",
    "# Convert the values to binary\n",
    "basket = basket.applymap(lambda x: 1 if x > 0 else 0)\n",
    "# Apply the Apriori algorithm\n",
    "frq_items = apriori(basket, min_support=0.05, use_colnames=True)\n",
    "\n",
    "# Collecting the inferred rules in a dataframe\n",
    "rules = association_rules(frq_items, metric=\"lift\", min_threshold=1.5, support_only=False,num_itemsets=len(frq_items))\n",
    "rules = rules.sort_values(['confidence', 'lift'], ascending=[False, False])\n",
    "\n",
    "print(rules)\n",
    "rules.to_csv(\"Tags_Apriori.csv\")"
   ]
  }
 ],
 "metadata": {
  "kernelspec": {
   "display_name": "Python 3",
   "language": "python",
   "name": "python3"
  },
  "language_info": {
   "codemirror_mode": {
    "name": "ipython",
    "version": 3
   },
   "file_extension": ".py",
   "mimetype": "text/x-python",
   "name": "python",
   "nbconvert_exporter": "python",
   "pygments_lexer": "ipython3",
   "version": "3.12.3"
  }
 },
 "nbformat": 4,
 "nbformat_minor": 2
}
