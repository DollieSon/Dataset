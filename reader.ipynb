{
 "cells": [
  {
   "cell_type": "code",
   "execution_count": 25,
   "metadata": {},
   "outputs": [],
   "source": [
    "import numpy as np\n",
    "import pandas as pd\n",
    "from mlxtend.frequent_patterns import apriori, association_rules "
   ]
  },
  {
   "cell_type": "code",
   "execution_count": 29,
   "metadata": {},
   "outputs": [
    {
     "data": {
      "text/html": [
       "<div>\n",
       "<style scoped>\n",
       "    .dataframe tbody tr th:only-of-type {\n",
       "        vertical-align: middle;\n",
       "    }\n",
       "\n",
       "    .dataframe tbody tr th {\n",
       "        vertical-align: top;\n",
       "    }\n",
       "\n",
       "    .dataframe thead th {\n",
       "        text-align: right;\n",
       "    }\n",
       "</style>\n",
       "<table border=\"1\" class=\"dataframe\">\n",
       "  <thead>\n",
       "    <tr style=\"text-align: right;\">\n",
       "      <th></th>\n",
       "      <th>Unnamed: 0</th>\n",
       "      <th>AppID</th>\n",
       "      <th>Genres</th>\n",
       "    </tr>\n",
       "  </thead>\n",
       "  <tbody>\n",
       "    <tr>\n",
       "      <th>0</th>\n",
       "      <td>20200</td>\n",
       "      <td>Galactic Bowling</td>\n",
       "      <td>Casual</td>\n",
       "    </tr>\n",
       "    <tr>\n",
       "      <th>1</th>\n",
       "      <td>20200</td>\n",
       "      <td>Galactic Bowling</td>\n",
       "      <td>Indie</td>\n",
       "    </tr>\n",
       "    <tr>\n",
       "      <th>2</th>\n",
       "      <td>20200</td>\n",
       "      <td>Galactic Bowling</td>\n",
       "      <td>Sports</td>\n",
       "    </tr>\n",
       "    <tr>\n",
       "      <th>3</th>\n",
       "      <td>655370</td>\n",
       "      <td>Train Bandit</td>\n",
       "      <td>Action</td>\n",
       "    </tr>\n",
       "    <tr>\n",
       "      <th>4</th>\n",
       "      <td>655370</td>\n",
       "      <td>Train Bandit</td>\n",
       "      <td>Indie</td>\n",
       "    </tr>\n",
       "  </tbody>\n",
       "</table>\n",
       "</div>"
      ],
      "text/plain": [
       "   Unnamed: 0             AppID  Genres\n",
       "0       20200  Galactic Bowling  Casual\n",
       "1       20200  Galactic Bowling   Indie\n",
       "2       20200  Galactic Bowling  Sports\n",
       "3      655370      Train Bandit  Action\n",
       "4      655370      Train Bandit   Indie"
      ]
     },
     "execution_count": 29,
     "metadata": {},
     "output_type": "execute_result"
    }
   ],
   "source": [
    "Genre = pd.read_csv('Genres.csv')\n",
    "Categories = pd.read_csv('Categories.csv')\n",
    "Genre.head()"
   ]
  },
  {
   "cell_type": "code",
   "execution_count": 35,
   "metadata": {},
   "outputs": [
    {
     "name": "stdout",
     "output_type": "stream",
     "text": [
      "Index(['ID', 'AppID', 'Genres'], dtype='object')\n",
      "Index(['ID', 'AppID', 'Categories'], dtype='object')\n"
     ]
    }
   ],
   "source": [
    "G_Col = Genre.columns.to_list()\n",
    "C_Col = Categories.columns.to_list()\n",
    "\n",
    "G_Col[0] = 'ID'\n",
    "C_Col[0] = 'ID'\n",
    "\n",
    "Genre.columns = G_Col\n",
    "Categories.columns = C_Col\n",
    "\n",
    "print(Genre.columns)\n",
    "print(Categories.columns)\n"
   ]
  },
  {
   "cell_type": "code",
   "execution_count": 36,
   "metadata": {},
   "outputs": [],
   "source": [
    "#basket_genre = (Genre.groupby(\"AppID\")[\"Categories\"].sum().unstack().reset_index().fillna(0).set_index('AppID'))\n",
    "basket_Genre = (Genre.groupby(['AppID', 'Genres']).sum().unstack().reset_index().fillna(0).set_index('AppID')) \n",
    "basket_Categories = (Categories.groupby(['AppID', 'Categories']).sum().unstack().reset_index().fillna(0).set_index('AppID')) "
   ]
  },
  {
   "cell_type": "code",
   "execution_count": 39,
   "metadata": {},
   "outputs": [
    {
     "name": "stderr",
     "output_type": "stream",
     "text": [
      "c:\\Users\\ray anthony\\AppData\\Local\\Programs\\Python\\Python312\\Lib\\site-packages\\mlxtend\\frequent_patterns\\fpcommon.py:161: DeprecationWarning: DataFrames with non-bool types result in worse computationalperformance and their support might be discontinued in the future.Please use a DataFrame with bool type\n",
      "  warnings.warn(\n"
     ]
    },
    {
     "name": "stdout",
     "output_type": "stream",
     "text": [
      "                antecedents              consequents  antecedent support  \\\n",
      "38         (Casual, Action)                  (Indie)            0.132820   \n",
      "69       (Casual, Strategy)                  (Indie)            0.085774   \n",
      "60  (Simulation, Adventure)                  (Indie)            0.066318   \n",
      "52      (Casual, Adventure)                  (Indie)            0.149856   \n",
      "28      (Action, Adventure)                  (Indie)            0.180546   \n",
      "..                      ...                      ...                 ...   \n",
      "67                  (Indie)     (Simulation, Casual)            0.696788   \n",
      "72                  (Indie)       (Casual, Strategy)            0.696788   \n",
      "49                  (Indie)            (Action, RPG)            0.696788   \n",
      "44                  (Indie)   (Early Access, Action)            0.696788   \n",
      "61                  (Indie)  (Simulation, Adventure)            0.696788   \n",
      "\n",
      "    consequent support   support  confidence      lift  representativity  \\\n",
      "38            0.696788  0.112143    0.844327  1.211741               1.0   \n",
      "69            0.696788  0.068306    0.796348  1.142883               1.0   \n",
      "60            0.696788  0.052588    0.792963  1.138026               1.0   \n",
      "52            0.696788  0.118549    0.791090  1.135338               1.0   \n",
      "28            0.696788  0.142564    0.789625  1.133235               1.0   \n",
      "..                 ...       ...         ...       ...               ...   \n",
      "67            0.100250  0.078342    0.112432  1.121525               1.0   \n",
      "72            0.085774  0.068306    0.098029  1.142883               1.0   \n",
      "49            0.072584  0.055310    0.079379  1.093615               1.0   \n",
      "44            0.068911  0.054392    0.078061  1.132781               1.0   \n",
      "61            0.066318  0.052588    0.075472  1.138026               1.0   \n",
      "\n",
      "    leverage  conviction  zhangs_metric   jaccard  certainty  kulczynski  \n",
      "38  0.019596    1.947747       0.201505  0.156305   0.486586    0.502635  \n",
      "69  0.008540    1.488869       0.136749  0.095632   0.328349    0.447189  \n",
      "60  0.006378    1.464529       0.129900  0.074013   0.317187    0.434217  \n",
      "52  0.014132    1.451398       0.140217  0.162821   0.311009    0.480613  \n",
      "28  0.016761    1.441290       0.143474  0.194025   0.306177    0.497113  \n",
      "..       ...         ...            ...       ...        ...         ...  \n",
      "67  0.008489    1.013726       0.357364  0.109005   0.013540    0.446949  \n",
      "72  0.008540    1.013588       0.412319  0.095632   0.013405    0.447189  \n",
      "49  0.004735    1.007381       0.282316  0.077458   0.007327    0.420698  \n",
      "44  0.006376    1.009925       0.386584  0.076467   0.009827    0.433685  \n",
      "61  0.006378    1.009901       0.400002  0.074013   0.009804    0.434217  \n",
      "\n",
      "[74 rows x 14 columns]\n"
     ]
    }
   ],
   "source": [
    "# Create a basket format DataFrame\n",
    "basket = Genre.pivot_table(index='ID', columns='Genres', aggfunc='size', fill_value=0)\n",
    "# Apply the Apriori algorithm\n",
    "frq_items = apriori(basket, min_support=0.05, use_colnames=True)\n",
    "\n",
    "# Collecting the inferred rules in a dataframe\n",
    "rules = association_rules(frq_items, metric=\"lift\", min_threshold=1, support_only=False,num_itemsets=4)\n",
    "rules = rules.sort_values(['confidence', 'lift'], ascending=[False, False])\n",
    "\n",
    "print(rules)\n",
    "rules.to_csv(\"Genre_Apriori.csv\")"
   ]
  },
  {
   "cell_type": "code",
   "execution_count": 41,
   "metadata": {},
   "outputs": [
    {
     "name": "stderr",
     "output_type": "stream",
     "text": [
      "C:\\Users\\ray anthony\\AppData\\Local\\Temp\\ipykernel_36788\\720575507.py:4: FutureWarning: DataFrame.applymap has been deprecated. Use DataFrame.map instead.\n",
      "  basket = basket.applymap(lambda x: 1 if x > 0 else 0)\n",
      "c:\\Users\\ray anthony\\AppData\\Local\\Programs\\Python\\Python312\\Lib\\site-packages\\mlxtend\\frequent_patterns\\fpcommon.py:161: DeprecationWarning: DataFrames with non-bool types result in worse computationalperformance and their support might be discontinued in the future.Please use a DataFrame with bool type\n",
      "  warnings.warn(\n"
     ]
    },
    {
     "name": "stdout",
     "output_type": "stream",
     "text": [
      "                          antecedents  \\\n",
      "166  (Online PvP, Single-player, PvP)   \n",
      "78                  (Online PvP, PvP)   \n",
      "50              (Co-op, Online Co-op)   \n",
      "87               (Single-player, PvP)   \n",
      "19                              (PvP)   \n",
      "..                                ...   \n",
      "5                     (Single-player)   \n",
      "130                   (Single-player)   \n",
      "114                   (Single-player)   \n",
      "143                   (Single-player)   \n",
      "201                   (Single-player)   \n",
      "\n",
      "                                           consequents  antecedent support  \\\n",
      "166                                     (Multi-player)            0.054024   \n",
      "78                                      (Multi-player)            0.083730   \n",
      "50                                      (Multi-player)            0.055925   \n",
      "87                                      (Multi-player)            0.082746   \n",
      "19                                      (Multi-player)            0.118572   \n",
      "..                                                 ...                 ...   \n",
      "5                                     (Family Sharing)            0.949638   \n",
      "130           (Steam Achievements, Steam Leaderboards)            0.949638   \n",
      "114   (Steam Achievements, Partial Controller Support)            0.949638   \n",
      "143                 (Steam Cloud, Steam Trading Cards)            0.949638   \n",
      "201  (Steam Cloud, Steam Trading Cards, Steam Achie...            0.949638   \n",
      "\n",
      "     consequent support   support  confidence      lift  representativity  \\\n",
      "166            0.187962  0.054024    1.000000  5.320212               1.0   \n",
      "78             0.187962  0.083719    0.999869  5.319517               1.0   \n",
      "50             0.187962  0.055903    0.999609  5.318132               1.0   \n",
      "87             0.187962  0.082702    0.999472  5.317401               1.0   \n",
      "19             0.187962  0.118496    0.999355  5.316779               1.0   \n",
      "..                  ...       ...         ...       ...               ...   \n",
      "5              0.078549  0.076516    0.080574  1.025781               1.0   \n",
      "130            0.072101  0.070680    0.074428  1.032282               1.0   \n",
      "114            0.065073  0.062953    0.066291  1.018722               1.0   \n",
      "143            0.057871  0.056909    0.059927  1.035532               1.0   \n",
      "201            0.053827  0.052953    0.055761  1.035928               1.0   \n",
      "\n",
      "     leverage   conviction  zhangs_metric   jaccard  certainty  kulczynski  \n",
      "166  0.043869          inf       0.858412  0.287417   1.000000    0.643709  \n",
      "78   0.067981  6221.019695       0.886215  0.445375   0.999839    0.722635  \n",
      "50   0.045392  2077.598080       0.860063  0.297384   0.999519    0.648514  \n",
      "87   0.067149  1536.984079       0.885183  0.439891   0.999349    0.719732  \n",
      "19   0.096209  1258.542202       0.921137  0.630166   0.999205    0.814888  \n",
      "..        ...          ...            ...       ...        ...         ...  \n",
      "5    0.001923     1.002203       0.499038  0.080402   0.002198    0.527347  \n",
      "130  0.002210     1.002515       0.620953  0.074317   0.002508    0.527361  \n",
      "114  0.001157     1.001305       0.364915  0.066144   0.001303    0.516854  \n",
      "143  0.001953     1.002187       0.681325  0.059866   0.002183    0.521654  \n",
      "201  0.001837     1.002048       0.688650  0.055710   0.002044    0.519759  \n",
      "\n",
      "[202 rows x 14 columns]\n"
     ]
    }
   ],
   "source": [
    "# Create a basket format DataFrame\n",
    "basket = Categories.pivot_table(index='ID', columns='Categories', aggfunc='size', fill_value=0)\n",
    "# Convert the values to binary\n",
    "basket = basket.applymap(lambda x: 1 if x > 0 else 0)\n",
    "# Apply the Apriori algorithm\n",
    "frq_items = apriori(basket, min_support=0.05, use_colnames=True)\n",
    "\n",
    "# Collecting the inferred rules in a dataframe\n",
    "rules = association_rules(frq_items, metric=\"lift\", min_threshold=1, support_only=False,num_itemsets=4)\n",
    "rules = rules.sort_values(['confidence', 'lift'], ascending=[False, False])\n",
    "\n",
    "print(rules)\n",
    "rules.to_csv(\"Categories_Apriori.csv\")"
   ]
  }
 ],
 "metadata": {
  "kernelspec": {
   "display_name": "Python 3",
   "language": "python",
   "name": "python3"
  },
  "language_info": {
   "codemirror_mode": {
    "name": "ipython",
    "version": 3
   },
   "file_extension": ".py",
   "mimetype": "text/x-python",
   "name": "python",
   "nbconvert_exporter": "python",
   "pygments_lexer": "ipython3",
   "version": "3.12.3"
  }
 },
 "nbformat": 4,
 "nbformat_minor": 2
}
