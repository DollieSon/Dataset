{
 "cells": [
  {
   "cell_type": "code",
   "execution_count": null,
   "metadata": {},
   "outputs": [],
   "source": [
    "import numpy as np\n",
    "import pandas as pd\n",
    "from mlxtend.frequent_patterns import apriori, association_rules "
   ]
  },
  {
   "cell_type": "code",
   "execution_count": null,
   "metadata": {},
   "outputs": [],
   "source": [
    "Genre = pd.read_csv('Genres.csv')\n",
    "Categories = pd.read_csv('Categories.csv')\n",
    "Tags = pd.read_csv('Tags.csv')\n",
    "Genre.head()"
   ]
  },
  {
   "cell_type": "code",
   "execution_count": null,
   "metadata": {},
   "outputs": [],
   "source": [
    "G_Col = Genre.columns.to_list()\n",
    "C_Col = Categories.columns.to_list()\n",
    "Tags_Col = Tags.columns.to_list()\n",
    "\n",
    "\n",
    "G_Col[0] = 'ID'\n",
    "C_Col[0] = 'ID'\n",
    "Tags_Col[0] = 'ID'\n",
    "\n",
    "Genre.columns = G_Col\n",
    "Categories.columns = C_Col\n",
    "Tags.columns = Tags_Col\n",
    "\n",
    "print(Genre.columns)\n",
    "print(Categories.columns)\n",
    "print(Tags.columns)\n"
   ]
  },
  {
   "cell_type": "code",
   "execution_count": null,
   "metadata": {},
   "outputs": [],
   "source": [
    "#basket_genre = (Genre.groupby(\"AppID\")[\"Categories\"].sum().unstack().reset_index().fillna(0).set_index('AppID'))\n",
    "# basket_Genre = (Genre.groupby(['AppID', 'Genres']).sum().unstack().reset_index().fillna(0).set_index('AppID')) \n",
    "# basket_Categories = (Categories.groupby(['AppID', 'Categories']).sum().unstack().reset_index().fillna(0).set_index('AppID')) \n",
    "# basket_Tags = (Tags.groupby(['AppID', 'Tags']).sum().unstack().reset_index().fillna(0).set_index('AppID'))"
   ]
  },
  {
   "cell_type": "code",
   "execution_count": null,
   "metadata": {},
   "outputs": [],
   "source": [
    "#print the number of genres and how much they appear\n",
    "# print(basket_Genre)\n",
    "# Genre['Genres'].value_counts()\n",
    "# Categories['Categories'].value_counts()\n",
    "# Tags['Tags'].value_counts()\n",
    "\n",
    "def aprioritize(dataframe,column,metric,threshhold):\n",
    "    basket = dataframe.pivot_table(index='ID', columns=column, aggfunc='size', fill_value=0)\n",
    "    # Apply the Apriori algorithm\n",
    "    frq_items = apriori(basket, min_support=0.05, use_colnames=True)\n",
    "\n",
    "    # Collecting the inferred rules in a dataframe\n",
    "    rules = association_rules(frq_items, metric=metric, min_threshold=threshhold, support_only=False,num_itemsets=len(frq_items))\n",
    "    rules = rules.sort_values([metric], ascending=[False, False])\n",
    "\n",
    "    print(rules)\n",
    "    rules.to_csv(f\"{column}_Apriori_{metric}.csv\")"
   ]
  },
  {
   "cell_type": "code",
   "execution_count": null,
   "metadata": {},
   "outputs": [],
   "source": [
    "# Create a basket format DataFrame\n",
    "aprioritize(Genre,'Genres','confidence',0.5)"
   ]
  },
  {
   "cell_type": "code",
   "execution_count": null,
   "metadata": {},
   "outputs": [],
   "source": [
    "# Create a basket format DataFrame\n",
    "basket = Categories.pivot_table(index='ID', columns='Categories', aggfunc='size', fill_value=0)\n",
    "# Convert the values to binary\n",
    "basket = basket.applymap(lambda x: 1 if x > 0 else 0)\n",
    "# Apply the Apriori algorithm\n",
    "frq_items = apriori(basket, min_support=0.05, use_colnames=True)\n",
    "\n",
    "# Collecting the inferred rules in a dataframe\n",
    "rules = association_rules(frq_items, metric=\"lift\", min_threshold=1.5, support_only=False,num_itemsets=len(frq_items))\n",
    "rules = rules.sort_values(['confidence', 'lift'], ascending=[False, False])\n",
    "\n",
    "print(rules)\n",
    "rules.to_csv(\"Categories_Apriori.csv\")"
   ]
  },
  {
   "cell_type": "code",
   "execution_count": null,
   "metadata": {},
   "outputs": [],
   "source": [
    "# Create a basket format DataFrame\n",
    "basket = Tags.pivot_table(index='ID', columns='Tags', aggfunc='size', fill_value=0)\n",
    "# Convert the values to binary\n",
    "basket = basket.applymap(lambda x: 1 if x > 0 else 0)\n",
    "# Apply the Apriori algorithm\n",
    "frq_items = apriori(basket, min_support=0.05, use_colnames=True)\n",
    "\n",
    "# Collecting the inferred rules in a dataframe\n",
    "rules = association_rules(frq_items, metric=\"lift\", min_threshold=1.5, support_only=False,num_itemsets=len(frq_items))\n",
    "rules = rules.sort_values(['confidence', 'lift'], ascending=[False, False])\n",
    "\n",
    "print(rules)\n",
    "rules.to_csv(\"Tags_Apriori.csv\")"
   ]
  }
 ],
 "metadata": {
  "kernelspec": {
   "display_name": "Python 3",
   "language": "python",
   "name": "python3"
  },
  "language_info": {
   "codemirror_mode": {
    "name": "ipython",
    "version": 3
   },
   "file_extension": ".py",
   "mimetype": "text/x-python",
   "name": "python",
   "nbconvert_exporter": "python",
   "pygments_lexer": "ipython3",
   "version": "3.12.3"
  }
 },
 "nbformat": 4,
 "nbformat_minor": 2
}
