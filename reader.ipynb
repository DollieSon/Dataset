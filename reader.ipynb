{
 "cells": [
  {
   "cell_type": "code",
   "execution_count": null,
   "metadata": {},
   "outputs": [],
   "source": [
    "import numpy as np\n",
    "import pandas as pd\n",
    "from mlxtend.frequent_patterns import apriori, association_rules "
   ]
  },
  {
   "cell_type": "code",
   "execution_count": null,
   "metadata": {},
   "outputs": [],
   "source": [
    "Genre = pd.read_csv('Genres.csv')\n",
    "Categories = pd.read_csv('Categories.csv')\n",
    "Tags = pd.read_csv('Tags.csv')\n",
    "Genre.head()"
   ]
  },
  {
   "cell_type": "code",
   "execution_count": null,
   "metadata": {},
   "outputs": [],
   "source": [
    "G_Col = Genre.columns.to_list()\n",
    "C_Col = Categories.columns.to_list()\n",
    "Tags_Col = Tags.columns.to_list()\n",
    "\n",
    "\n",
    "G_Col[0] = 'ID'\n",
    "C_Col[0] = 'ID'\n",
    "Tags_Col[0] = 'ID'\n",
    "\n",
    "Genre.columns = G_Col\n",
    "Categories.columns = C_Col\n",
    "Tags.columns = Tags_Col\n",
    "\n",
    "print(Genre.columns)\n",
    "print(Categories.columns)\n",
    "print(Tags.columns)\n"
   ]
  },
  {
   "cell_type": "code",
   "execution_count": null,
   "metadata": {},
   "outputs": [],
   "source": [
    "#basket_genre = (Genre.groupby(\"AppID\")[\"Categories\"].sum().unstack().reset_index().fillna(0).set_index('AppID'))\n",
    "# basket_Genre = (Genre.groupby(['AppID', 'Genres']).sum().unstack().reset_index().fillna(0).set_index('AppID')) \n",
    "# basket_Categories = (Categories.groupby(['AppID', 'Categories']).sum().unstack().reset_index().fillna(0).set_index('AppID')) \n",
    "# basket_Tags = (Tags.groupby(['AppID', 'Tags']).sum().unstack().reset_index().fillna(0).set_index('AppID'))"
   ]
  },
  {
   "cell_type": "code",
   "execution_count": 35,
   "metadata": {},
   "outputs": [],
   "source": [
    "#print the number of genres and how much they appear\n",
    "# print(basket_Genre)\n",
    "# Genre['Genres'].value_counts()\n",
    "# Categories['Categories'].value_counts()\n",
    "# Tags['Tags'].value_counts()\n",
    "\n",
    "def aprioritize(dataframe,column,metric,threshhold):\n",
    "    basket = dataframe.pivot_table(index='ID', columns=column, aggfunc='size', fill_value=0)\n",
    "    # Apply the Apriori algorithm\n",
    "    frq_items = apriori(basket, min_support=0.05, use_colnames=True)\n",
    "\n",
    "    # Collecting the inferred rules in a dataframe\n",
    "    rules = association_rules(frq_items, metric=metric, min_threshold=threshhold, support_only=False,num_itemsets=len(frq_items))\n",
    "    rules = rules.sort_values([metric], ascending=[False])\n",
    "\n",
    "    print(rules)\n",
    "    rules.to_csv(f\"{column}_Apriori_{metric}.csv\")"
   ]
  },
  {
   "cell_type": "code",
   "execution_count": 36,
   "metadata": {},
   "outputs": [
    {
     "name": "stderr",
     "output_type": "stream",
     "text": [
      "c:\\Users\\ray anthony\\AppData\\Local\\Programs\\Python\\Python312\\Lib\\site-packages\\mlxtend\\frequent_patterns\\fpcommon.py:161: DeprecationWarning: DataFrames with non-bool types result in worse computationalperformance and their support might be discontinued in the future.Please use a DataFrame with bool type\n",
      "  warnings.warn(\n"
     ]
    },
    {
     "name": "stdout",
     "output_type": "stream",
     "text": [
      "                antecedents  consequents  antecedent support  \\\n",
      "12         (Action, Casual)      (Indie)            0.132820   \n",
      "22       (Casual, Strategy)      (Indie)            0.085774   \n",
      "19  (Simulation, Adventure)      (Indie)            0.066318   \n",
      "16      (Casual, Adventure)      (Indie)            0.149856   \n",
      "10      (Action, Adventure)      (Indie)            0.180546   \n",
      "13   (Action, Early Access)      (Indie)            0.068911   \n",
      "18         (Adventure, RPG)      (Indie)            0.102788   \n",
      "21     (Simulation, Casual)      (Indie)            0.100250   \n",
      "15            (Action, RPG)      (Indie)            0.072584   \n",
      "4                  (Casual)      (Indie)            0.424635   \n",
      "2               (Adventure)      (Indie)            0.387430   \n",
      "5            (Early Access)      (Indie)            0.130681   \n",
      "1                  (Action)      (Indie)            0.410548   \n",
      "7                     (RPG)      (Indie)            0.179941   \n",
      "9                (Strategy)      (Indie)            0.191857   \n",
      "11            (Action, RPG)  (Adventure)            0.072584   \n",
      "8              (Simulation)      (Indie)            0.201018   \n",
      "6            (Free to Play)      (Indie)            0.085558   \n",
      "17             (Indie, RPG)  (Adventure)            0.128229   \n",
      "3                     (RPG)  (Adventure)            0.179941   \n",
      "20      (Simulation, Indie)     (Casual)            0.138751   \n",
      "14    (Indie, Early Access)     (Action)            0.097711   \n",
      "0            (Early Access)     (Action)            0.130681   \n",
      "23        (Indie, Strategy)     (Casual)            0.133900   \n",
      "\n",
      "    consequent support   support  confidence      lift  representativity  \\\n",
      "12            0.696788  0.112143    0.844327  1.211741               1.0   \n",
      "22            0.696788  0.068306    0.796348  1.142883               1.0   \n",
      "19            0.696788  0.052588    0.792963  1.138026               1.0   \n",
      "16            0.696788  0.118549    0.791090  1.135338               1.0   \n",
      "10            0.696788  0.142564    0.789625  1.133235               1.0   \n",
      "13            0.696788  0.054392    0.789309  1.132781               1.0   \n",
      "18            0.696788  0.080621    0.784341  1.125651               1.0   \n",
      "21            0.696788  0.078342    0.781466  1.121525               1.0   \n",
      "15            0.696788  0.055310    0.762018  1.093615               1.0   \n",
      "4             0.696788  0.321414    0.756920  1.086298               1.0   \n",
      "2             0.696788  0.291966    0.753597  1.081529               1.0   \n",
      "5             0.696788  0.097711    0.747706  1.073075               1.0   \n",
      "1             0.696788  0.306906    0.747553  1.072855               1.0   \n",
      "7             0.696788  0.128229    0.712613  1.022711               1.0   \n",
      "9             0.696788  0.133900    0.697917  1.001619               1.0   \n",
      "11            0.387430  0.050622    0.697425  1.800133               1.0   \n",
      "8             0.696788  0.138751    0.690241  0.990603               1.0   \n",
      "6             0.696788  0.055040    0.643308  0.923247               1.0   \n",
      "17            0.387430  0.080621    0.628728  1.622817               1.0   \n",
      "3             0.387430  0.102788    0.571231  1.474412               1.0   \n",
      "20            0.424635  0.078342    0.564622  1.329665               1.0   \n",
      "14            0.410548  0.054392    0.556661  1.355898               1.0   \n",
      "0             0.410548  0.068911    0.527321  1.284432               1.0   \n",
      "23            0.424635  0.068306    0.510125  1.201327               1.0   \n",
      "\n",
      "    leverage  conviction  zhangs_metric   jaccard  certainty  kulczynski  \n",
      "12  0.019596    1.947747       0.201505  0.156305   0.486586    0.502635  \n",
      "22  0.008540    1.488869       0.136749  0.095632   0.328349    0.447189  \n",
      "19  0.006378    1.464529       0.129900  0.074013   0.317187    0.434217  \n",
      "16  0.014132    1.451398       0.140217  0.162821   0.311009    0.480613  \n",
      "10  0.016761    1.441290       0.143474  0.194025   0.306177    0.497113  \n",
      "13  0.006376    1.439127       0.125892  0.076467   0.305134    0.433685  \n",
      "18  0.008999    1.405974       0.124413  0.112136   0.288749    0.450022  \n",
      "21  0.008489    1.387477       0.120430  0.109005   0.279268    0.446949  \n",
      "15  0.004735    1.274096       0.092301  0.077458   0.215130    0.420698  \n",
      "4   0.025534    1.247372       0.138073  0.401764   0.198315    0.609100  \n",
      "2   0.022009    1.230551       0.123061  0.368527   0.187356    0.586307  \n",
      "5   0.006654    1.201819       0.078336  0.133895   0.167928    0.443968  \n",
      "1   0.020841    1.201090       0.115205  0.383427   0.167423    0.594006  \n",
      "7   0.002848    1.055065       0.027080  0.171314   0.052191    0.448321  \n",
      "9   0.000216    1.003735       0.002001  0.177411   0.003721    0.445042  \n",
      "11  0.022501    2.024525       0.479273  0.123651   0.506057    0.414043  \n",
      "8  -0.001316    0.978862      -0.011733  0.182794  -0.021594    0.444685  \n",
      "6  -0.004576    0.850066      -0.083335  0.075677  -0.176379    0.361150  \n",
      "17  0.030941    1.649922       0.440239  0.185319   0.393911    0.418410  \n",
      "3   0.033073    1.428673       0.392367  0.221248   0.300050    0.418270  \n",
      "20  0.019423    1.321530       0.287873  0.161514   0.243301    0.374557  \n",
      "14  0.014277    1.329575       0.290906  0.119841   0.247880    0.344574  \n",
      "0   0.015260    1.247045       0.254735  0.145899   0.198104    0.347586  \n",
      "23  0.011447    1.174515       0.193496  0.139335   0.148585    0.335491  \n"
     ]
    }
   ],
   "source": [
    "# Create a basket format DataFrame\n",
    "aprioritize(Genre,'Genres','confidence',0.5)"
   ]
  },
  {
   "cell_type": "code",
   "execution_count": null,
   "metadata": {},
   "outputs": [],
   "source": [
    "# Create a basket format DataFrame\n",
    "basket = Categories.pivot_table(index='ID', columns='Categories', aggfunc='size', fill_value=0)\n",
    "# Convert the values to binary\n",
    "basket = basket.applymap(lambda x: 1 if x > 0 else 0)\n",
    "# Apply the Apriori algorithm\n",
    "frq_items = apriori(basket, min_support=0.05, use_colnames=True)\n",
    "\n",
    "# Collecting the inferred rules in a dataframe\n",
    "rules = association_rules(frq_items, metric=\"lift\", min_threshold=1.5, support_only=False,num_itemsets=len(frq_items))\n",
    "rules = rules.sort_values(['confidence', 'lift'], ascending=[False, False])\n",
    "\n",
    "print(rules)\n",
    "rules.to_csv(\"Categories_Apriori.csv\")"
   ]
  },
  {
   "cell_type": "code",
   "execution_count": null,
   "metadata": {},
   "outputs": [],
   "source": [
    "# Create a basket format DataFrame\n",
    "basket = Tags.pivot_table(index='ID', columns='Tags', aggfunc='size', fill_value=0)\n",
    "# Convert the values to binary\n",
    "basket = basket.applymap(lambda x: 1 if x > 0 else 0)\n",
    "# Apply the Apriori algorithm\n",
    "frq_items = apriori(basket, min_support=0.05, use_colnames=True)\n",
    "\n",
    "# Collecting the inferred rules in a dataframe\n",
    "rules = association_rules(frq_items, metric=\"lift\", min_threshold=1.5, support_only=False,num_itemsets=len(frq_items))\n",
    "rules = rules.sort_values(['confidence', 'lift'], ascending=[False, False])\n",
    "\n",
    "print(rules)\n",
    "rules.to_csv(\"Tags_Apriori.csv\")"
   ]
  }
 ],
 "metadata": {
  "kernelspec": {
   "display_name": "Python 3",
   "language": "python",
   "name": "python3"
  },
  "language_info": {
   "codemirror_mode": {
    "name": "ipython",
    "version": 3
   },
   "file_extension": ".py",
   "mimetype": "text/x-python",
   "name": "python",
   "nbconvert_exporter": "python",
   "pygments_lexer": "ipython3",
   "version": "3.12.3"
  }
 },
 "nbformat": 4,
 "nbformat_minor": 2
}
