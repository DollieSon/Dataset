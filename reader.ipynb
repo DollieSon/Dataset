{
 "cells": [
  {
   "cell_type": "code",
   "execution_count": 1,
   "metadata": {},
   "outputs": [],
   "source": [
    "import numpy as np\n",
    "import pandas as pd\n",
    "from mlxtend.frequent_patterns import apriori, association_rules "
   ]
  },
  {
   "cell_type": "code",
   "execution_count": 23,
   "metadata": {},
   "outputs": [],
   "source": [
    "Genre = pd.read_csv('Genres.csv')\n",
    "Categories = pd.read_csv('Categories.csv')"
   ]
  },
  {
   "cell_type": "code",
   "execution_count": 24,
   "metadata": {},
   "outputs": [
    {
     "data": {
      "text/plain": [
       "Index(['Number', 'AppID', 'Genres'], dtype='object')"
      ]
     },
     "execution_count": 24,
     "metadata": {},
     "output_type": "execute_result"
    }
   ],
   "source": [
    "Genre.columns\n"
   ]
  },
  {
   "cell_type": "code",
   "execution_count": 14,
   "metadata": {},
   "outputs": [],
   "source": [
    "#basket_genre = (Genre.groupby(\"AppID\")[\"Categories\"].sum().unstack().reset_index().fillna(0).set_index('AppID'))\n",
    "basket_France = (Genre.groupby(['AppID', 'Genres']).sum().unstack().reset_index().fillna(0).set_index('AppID')) "
   ]
  },
  {
   "cell_type": "code",
   "execution_count": 15,
   "metadata": {},
   "outputs": [
    {
     "name": "stderr",
     "output_type": "stream",
     "text": [
      "C:\\Users\\ray anthony\\AppData\\Local\\Temp\\ipykernel_32348\\3784363913.py:10: FutureWarning: DataFrame.applymap has been deprecated. Use DataFrame.map instead.\n",
      "  basket_France = basket_France.applymap(hot_encode)\n"
     ]
    }
   ],
   "source": [
    "# Defining the hot encoding function to make the data suitable \n",
    "# for the concerned libraries \n",
    "def hot_encode(x): \n",
    "\tif(x<= 0): \n",
    "\t\treturn 0\n",
    "\tif(x>= 1): \n",
    "\t\treturn 1\n",
    "\n",
    "# Encoding the datasets \n",
    "basket_France = basket_France.applymap(hot_encode) "
   ]
  },
  {
   "cell_type": "code",
   "execution_count": null,
   "metadata": {},
   "outputs": [
    {
     "name": "stderr",
     "output_type": "stream",
     "text": [
      "c:\\Users\\ray anthony\\AppData\\Local\\Programs\\Python\\Python312\\Lib\\site-packages\\mlxtend\\frequent_patterns\\fpcommon.py:161: DeprecationWarning: DataFrames with non-bool types result in worse computationalperformance and their support might be discontinued in the future.Please use a DataFrame with bool type\n",
      "  warnings.warn(\n"
     ]
    },
    {
     "name": "stdout",
     "output_type": "stream",
     "text": [
      "                antecedents consequents  antecedent support  \\\n",
      "38         (Casual, Action)     (Indie)            0.132820   \n",
      "69       (Casual, Strategy)     (Indie)            0.085774   \n",
      "60  (Adventure, Simulation)     (Indie)            0.066318   \n",
      "52      (Casual, Adventure)     (Indie)            0.149856   \n",
      "27      (Action, Adventure)     (Indie)            0.180546   \n",
      "\n",
      "    consequent support   support  confidence      lift  representativity  \\\n",
      "38            0.696788  0.112143    0.844327  1.211741               1.0   \n",
      "69            0.696788  0.068306    0.796348  1.142883               1.0   \n",
      "60            0.696788  0.052588    0.792963  1.138026               1.0   \n",
      "52            0.696788  0.118549    0.791090  1.135338               1.0   \n",
      "27            0.696788  0.142564    0.789625  1.133235               1.0   \n",
      "\n",
      "    leverage  conviction  zhangs_metric   jaccard  certainty  kulczynski  \n",
      "38  0.019596    1.947747       0.201505  0.156305   0.486586    0.502635  \n",
      "69  0.008540    1.488869       0.136749  0.095632   0.328349    0.447189  \n",
      "60  0.006378    1.464529       0.129900  0.074013   0.317187    0.434217  \n",
      "52  0.014132    1.451398       0.140217  0.162821   0.311009    0.480613  \n",
      "27  0.016761    1.441290       0.143474  0.194025   0.306177    0.497113  \n"
     ]
    }
   ],
   "source": [
    "# Create a basket format DataFrame\n",
    "basket = Genre.pivot_table(index='Number', columns='Genres', aggfunc='size', fill_value=0)\n",
    "\n",
    "# Apply the Apriori algorithm\n",
    "frq_items = apriori(basket, min_support=0.05, use_colnames=True)\n",
    "\n",
    "# Collecting the inferred rules in a dataframe\n",
    "rules = association_rules(frq_items, metric=\"lift\", min_threshold=1, support_only=False,num_itemsets=4)\n",
    "rules = rules.sort_values(['confidence', 'lift'], ascending=[False, False])\n",
    "\n",
    "print(rules)"
   ]
  }
 ],
 "metadata": {
  "kernelspec": {
   "display_name": "Python 3",
   "language": "python",
   "name": "python3"
  },
  "language_info": {
   "codemirror_mode": {
    "name": "ipython",
    "version": 3
   },
   "file_extension": ".py",
   "mimetype": "text/x-python",
   "name": "python",
   "nbconvert_exporter": "python",
   "pygments_lexer": "ipython3",
   "version": "3.12.3"
  }
 },
 "nbformat": 4,
 "nbformat_minor": 2
}
