{
 "cells": [
  {
   "cell_type": "code",
   "execution_count": 25,
   "metadata": {},
   "outputs": [],
   "source": [
    "import numpy as np\n",
    "import pandas as pd\n",
    "from mlxtend.frequent_patterns import apriori, association_rules "
   ]
  },
  {
   "cell_type": "code",
   "execution_count": 29,
   "metadata": {},
   "outputs": [
    {
     "data": {
      "text/html": [
       "<div>\n",
       "<style scoped>\n",
       "    .dataframe tbody tr th:only-of-type {\n",
       "        vertical-align: middle;\n",
       "    }\n",
       "\n",
       "    .dataframe tbody tr th {\n",
       "        vertical-align: top;\n",
       "    }\n",
       "\n",
       "    .dataframe thead th {\n",
       "        text-align: right;\n",
       "    }\n",
       "</style>\n",
       "<table border=\"1\" class=\"dataframe\">\n",
       "  <thead>\n",
       "    <tr style=\"text-align: right;\">\n",
       "      <th></th>\n",
       "      <th>Unnamed: 0</th>\n",
       "      <th>AppID</th>\n",
       "      <th>Genres</th>\n",
       "    </tr>\n",
       "  </thead>\n",
       "  <tbody>\n",
       "    <tr>\n",
       "      <th>0</th>\n",
       "      <td>20200</td>\n",
       "      <td>Galactic Bowling</td>\n",
       "      <td>Casual</td>\n",
       "    </tr>\n",
       "    <tr>\n",
       "      <th>1</th>\n",
       "      <td>20200</td>\n",
       "      <td>Galactic Bowling</td>\n",
       "      <td>Indie</td>\n",
       "    </tr>\n",
       "    <tr>\n",
       "      <th>2</th>\n",
       "      <td>20200</td>\n",
       "      <td>Galactic Bowling</td>\n",
       "      <td>Sports</td>\n",
       "    </tr>\n",
       "    <tr>\n",
       "      <th>3</th>\n",
       "      <td>655370</td>\n",
       "      <td>Train Bandit</td>\n",
       "      <td>Action</td>\n",
       "    </tr>\n",
       "    <tr>\n",
       "      <th>4</th>\n",
       "      <td>655370</td>\n",
       "      <td>Train Bandit</td>\n",
       "      <td>Indie</td>\n",
       "    </tr>\n",
       "  </tbody>\n",
       "</table>\n",
       "</div>"
      ],
      "text/plain": [
       "   Unnamed: 0             AppID  Genres\n",
       "0       20200  Galactic Bowling  Casual\n",
       "1       20200  Galactic Bowling   Indie\n",
       "2       20200  Galactic Bowling  Sports\n",
       "3      655370      Train Bandit  Action\n",
       "4      655370      Train Bandit   Indie"
      ]
     },
     "execution_count": 29,
     "metadata": {},
     "output_type": "execute_result"
    }
   ],
   "source": [
    "Genre = pd.read_csv('Genres.csv')\n",
    "Categories = pd.read_csv('Categories.csv')\n",
    "Genre.head()"
   ]
  },
  {
   "cell_type": "code",
   "execution_count": 35,
   "metadata": {},
   "outputs": [
    {
     "name": "stdout",
     "output_type": "stream",
     "text": [
      "Index(['ID', 'AppID', 'Genres'], dtype='object')\n",
      "Index(['ID', 'AppID', 'Categories'], dtype='object')\n"
     ]
    }
   ],
   "source": [
    "G_Col = Genre.columns.to_list()\n",
    "C_Col = Categories.columns.to_list()\n",
    "\n",
    "G_Col[0] = 'ID'\n",
    "C_Col[0] = 'ID'\n",
    "\n",
    "Genre.columns = G_Col\n",
    "Categories.columns = C_Col\n",
    "\n",
    "print(Genre.columns)\n",
    "print(Categories.columns)\n"
   ]
  },
  {
   "cell_type": "code",
   "execution_count": 36,
   "metadata": {},
   "outputs": [],
   "source": [
    "#basket_genre = (Genre.groupby(\"AppID\")[\"Categories\"].sum().unstack().reset_index().fillna(0).set_index('AppID'))\n",
    "basket_Genre = (Genre.groupby(['AppID', 'Genres']).sum().unstack().reset_index().fillna(0).set_index('AppID')) \n",
    "basket_Categories = (Categories.groupby(['AppID', 'Categories']).sum().unstack().reset_index().fillna(0).set_index('AppID')) "
   ]
  },
  {
   "cell_type": "code",
   "execution_count": 37,
   "metadata": {},
   "outputs": [
    {
     "name": "stderr",
     "output_type": "stream",
     "text": [
      "c:\\Users\\ray anthony\\AppData\\Local\\Programs\\Python\\Python312\\Lib\\site-packages\\mlxtend\\frequent_patterns\\fpcommon.py:161: DeprecationWarning: DataFrames with non-bool types result in worse computationalperformance and their support might be discontinued in the future.Please use a DataFrame with bool type\n",
      "  warnings.warn(\n"
     ]
    },
    {
     "name": "stdout",
     "output_type": "stream",
     "text": [
      "                antecedents              consequents  antecedent support  \\\n",
      "38         (Casual, Action)                  (Indie)            0.132820   \n",
      "69       (Casual, Strategy)                  (Indie)            0.085774   \n",
      "60  (Simulation, Adventure)                  (Indie)            0.066318   \n",
      "52      (Casual, Adventure)                  (Indie)            0.149856   \n",
      "28      (Action, Adventure)                  (Indie)            0.180546   \n",
      "..                      ...                      ...                 ...   \n",
      "67                  (Indie)     (Simulation, Casual)            0.696788   \n",
      "72                  (Indie)       (Casual, Strategy)            0.696788   \n",
      "49                  (Indie)            (Action, RPG)            0.696788   \n",
      "44                  (Indie)   (Early Access, Action)            0.696788   \n",
      "61                  (Indie)  (Simulation, Adventure)            0.696788   \n",
      "\n",
      "    consequent support   support  confidence      lift  representativity  \\\n",
      "38            0.696788  0.112143    0.844327  1.211741               1.0   \n",
      "69            0.696788  0.068306    0.796348  1.142883               1.0   \n",
      "60            0.696788  0.052588    0.792963  1.138026               1.0   \n",
      "52            0.696788  0.118549    0.791090  1.135338               1.0   \n",
      "28            0.696788  0.142564    0.789625  1.133235               1.0   \n",
      "..                 ...       ...         ...       ...               ...   \n",
      "67            0.100250  0.078342    0.112432  1.121525               1.0   \n",
      "72            0.085774  0.068306    0.098029  1.142883               1.0   \n",
      "49            0.072584  0.055310    0.079379  1.093615               1.0   \n",
      "44            0.068911  0.054392    0.078061  1.132781               1.0   \n",
      "61            0.066318  0.052588    0.075472  1.138026               1.0   \n",
      "\n",
      "    leverage  conviction  zhangs_metric   jaccard  certainty  kulczynski  \n",
      "38  0.019596    1.947747       0.201505  0.156305   0.486586    0.502635  \n",
      "69  0.008540    1.488869       0.136749  0.095632   0.328349    0.447189  \n",
      "60  0.006378    1.464529       0.129900  0.074013   0.317187    0.434217  \n",
      "52  0.014132    1.451398       0.140217  0.162821   0.311009    0.480613  \n",
      "28  0.016761    1.441290       0.143474  0.194025   0.306177    0.497113  \n",
      "..       ...         ...            ...       ...        ...         ...  \n",
      "67  0.008489    1.013726       0.357364  0.109005   0.013540    0.446949  \n",
      "72  0.008540    1.013588       0.412319  0.095632   0.013405    0.447189  \n",
      "49  0.004735    1.007381       0.282316  0.077458   0.007327    0.420698  \n",
      "44  0.006376    1.009925       0.386584  0.076467   0.009827    0.433685  \n",
      "61  0.006378    1.009901       0.400002  0.074013   0.009804    0.434217  \n",
      "\n",
      "[74 rows x 14 columns]\n"
     ]
    }
   ],
   "source": [
    "# Create a basket format DataFrame\n",
    "basket = Genre.pivot_table(index='ID', columns='Genres', aggfunc='size', fill_value=0)\n",
    "# Apply the Apriori algorithm\n",
    "frq_items = apriori(basket, min_support=0.05, use_colnames=True)\n",
    "\n",
    "# Collecting the inferred rules in a dataframe\n",
    "rules = association_rules(frq_items, metric=\"lift\", min_threshold=1, support_only=False,num_itemsets=4)\n",
    "rules = rules.sort_values(['confidence', 'lift'], ascending=[False, False])\n",
    "\n",
    "print(rules)\n",
    "rules.to_csv(\"Genre_Apriori.csv\")"
   ]
  },
  {
   "cell_type": "code",
   "execution_count": null,
   "metadata": {},
   "outputs": [
    {
     "name": "stderr",
     "output_type": "stream",
     "text": [
      "c:\\Users\\ray anthony\\AppData\\Local\\Programs\\Python\\Python312\\Lib\\site-packages\\mlxtend\\frequent_patterns\\fpcommon.py:161: DeprecationWarning: DataFrames with non-bool types result in worse computationalperformance and their support might be discontinued in the future.Please use a DataFrame with bool type\n",
      "  warnings.warn(\n"
     ]
    },
    {
     "ename": "ValueError",
     "evalue": "The allowed values for a DataFrame are True, False, 0, 1. Found value 2",
     "output_type": "error",
     "traceback": [
      "\u001b[1;31m---------------------------------------------------------------------------\u001b[0m",
      "\u001b[1;31mValueError\u001b[0m                                Traceback (most recent call last)",
      "Cell \u001b[1;32mIn[38], line 4\u001b[0m\n\u001b[0;32m      2\u001b[0m basket \u001b[38;5;241m=\u001b[39m Categories\u001b[38;5;241m.\u001b[39mpivot_table(index\u001b[38;5;241m=\u001b[39m\u001b[38;5;124m'\u001b[39m\u001b[38;5;124mID\u001b[39m\u001b[38;5;124m'\u001b[39m, columns\u001b[38;5;241m=\u001b[39m\u001b[38;5;124m'\u001b[39m\u001b[38;5;124mCategories\u001b[39m\u001b[38;5;124m'\u001b[39m, aggfunc\u001b[38;5;241m=\u001b[39m\u001b[38;5;124m'\u001b[39m\u001b[38;5;124msize\u001b[39m\u001b[38;5;124m'\u001b[39m, fill_value\u001b[38;5;241m=\u001b[39m\u001b[38;5;241m0\u001b[39m)\n\u001b[0;32m      3\u001b[0m \u001b[38;5;66;03m# Apply the Apriori algorithm\u001b[39;00m\n\u001b[1;32m----> 4\u001b[0m frq_items \u001b[38;5;241m=\u001b[39m \u001b[43mapriori\u001b[49m\u001b[43m(\u001b[49m\u001b[43mbasket\u001b[49m\u001b[43m,\u001b[49m\u001b[43m \u001b[49m\u001b[43mmin_support\u001b[49m\u001b[38;5;241;43m=\u001b[39;49m\u001b[38;5;241;43m0.05\u001b[39;49m\u001b[43m,\u001b[49m\u001b[43m \u001b[49m\u001b[43muse_colnames\u001b[49m\u001b[38;5;241;43m=\u001b[39;49m\u001b[38;5;28;43;01mTrue\u001b[39;49;00m\u001b[43m)\u001b[49m\n\u001b[0;32m      6\u001b[0m \u001b[38;5;66;03m# Collecting the inferred rules in a dataframe\u001b[39;00m\n\u001b[0;32m      7\u001b[0m rules \u001b[38;5;241m=\u001b[39m association_rules(frq_items, metric\u001b[38;5;241m=\u001b[39m\u001b[38;5;124m\"\u001b[39m\u001b[38;5;124mlift\u001b[39m\u001b[38;5;124m\"\u001b[39m, min_threshold\u001b[38;5;241m=\u001b[39m\u001b[38;5;241m1\u001b[39m, support_only\u001b[38;5;241m=\u001b[39m\u001b[38;5;28;01mFalse\u001b[39;00m,num_itemsets\u001b[38;5;241m=\u001b[39m\u001b[38;5;241m4\u001b[39m)\n",
      "File \u001b[1;32mc:\\Users\\ray anthony\\AppData\\Local\\Programs\\Python\\Python312\\Lib\\site-packages\\mlxtend\\frequent_patterns\\apriori.py:241\u001b[0m, in \u001b[0;36mapriori\u001b[1;34m(df, min_support, use_colnames, max_len, verbose, low_memory)\u001b[0m\n\u001b[0;32m    234\u001b[0m \u001b[38;5;28;01mif\u001b[39;00m min_support \u001b[38;5;241m<\u001b[39m\u001b[38;5;241m=\u001b[39m \u001b[38;5;241m0.0\u001b[39m:\n\u001b[0;32m    235\u001b[0m     \u001b[38;5;28;01mraise\u001b[39;00m \u001b[38;5;167;01mValueError\u001b[39;00m(\n\u001b[0;32m    236\u001b[0m         \u001b[38;5;124m\"\u001b[39m\u001b[38;5;124m`min_support` must be a positive \u001b[39m\u001b[38;5;124m\"\u001b[39m\n\u001b[0;32m    237\u001b[0m         \u001b[38;5;124m\"\u001b[39m\u001b[38;5;124mnumber within the interval `(0, 1]`. \u001b[39m\u001b[38;5;124m\"\u001b[39m\n\u001b[0;32m    238\u001b[0m         \u001b[38;5;124m\"\u001b[39m\u001b[38;5;124mGot \u001b[39m\u001b[38;5;132;01m%s\u001b[39;00m\u001b[38;5;124m.\u001b[39m\u001b[38;5;124m\"\u001b[39m \u001b[38;5;241m%\u001b[39m min_support\n\u001b[0;32m    239\u001b[0m     )\n\u001b[1;32m--> 241\u001b[0m \u001b[43mfpc\u001b[49m\u001b[38;5;241;43m.\u001b[39;49m\u001b[43mvalid_input_check\u001b[49m\u001b[43m(\u001b[49m\u001b[43mdf\u001b[49m\u001b[43m)\u001b[49m\n\u001b[0;32m    243\u001b[0m \u001b[38;5;28;01mif\u001b[39;00m \u001b[38;5;28mhasattr\u001b[39m(df, \u001b[38;5;124m\"\u001b[39m\u001b[38;5;124msparse\u001b[39m\u001b[38;5;124m\"\u001b[39m):\n\u001b[0;32m    244\u001b[0m     \u001b[38;5;66;03m# DataFrame with SparseArray (pandas >= 0.24)\u001b[39;00m\n\u001b[0;32m    245\u001b[0m     \u001b[38;5;28;01mif\u001b[39;00m df\u001b[38;5;241m.\u001b[39msize \u001b[38;5;241m==\u001b[39m \u001b[38;5;241m0\u001b[39m:\n",
      "File \u001b[1;32mc:\\Users\\ray anthony\\AppData\\Local\\Programs\\Python\\Python312\\Lib\\site-packages\\mlxtend\\frequent_patterns\\fpcommon.py:209\u001b[0m, in \u001b[0;36mvalid_input_check\u001b[1;34m(df, null_values)\u001b[0m\n\u001b[0;32m    204\u001b[0m \u001b[38;5;28;01mif\u001b[39;00m null_values:\n\u001b[0;32m    205\u001b[0m     s \u001b[38;5;241m=\u001b[39m (\n\u001b[0;32m    206\u001b[0m         \u001b[38;5;124m\"\u001b[39m\u001b[38;5;124mThe allowed values for a DataFrame\u001b[39m\u001b[38;5;124m\"\u001b[39m\n\u001b[0;32m    207\u001b[0m         \u001b[38;5;124m\"\u001b[39m\u001b[38;5;124m are True, False, 0, 1, NaN. Found value \u001b[39m\u001b[38;5;132;01m%s\u001b[39;00m\u001b[38;5;124m\"\u001b[39m \u001b[38;5;241m%\u001b[39m (val)\n\u001b[0;32m    208\u001b[0m     )\n\u001b[1;32m--> 209\u001b[0m \u001b[38;5;28;01mraise\u001b[39;00m \u001b[38;5;167;01mValueError\u001b[39;00m(s)\n",
      "\u001b[1;31mValueError\u001b[0m: The allowed values for a DataFrame are True, False, 0, 1. Found value 2"
     ]
    }
   ],
   "source": [
    "# Create a basket format DataFrame\n",
    "basket = Categories.pivot_table(index='ID', columns='Categories', aggfunc='size', fill_value=0)\n",
    "# Apply the Apriori algorithm\n",
    "frq_items = apriori(basket, min_support=0.05, use_colnames=True)\n",
    "\n",
    "# Collecting the inferred rules in a dataframe\n",
    "rules = association_rules(frq_items, metric=\"lift\", min_threshold=1, support_only=False,num_itemsets=4)\n",
    "rules = rules.sort_values(['confidence', 'lift'], ascending=[False, False])\n",
    "\n",
    "print(rules)\n",
    "rules.to_csv(\"Categories_Apriori.csv\")"
   ]
  }
 ],
 "metadata": {
  "kernelspec": {
   "display_name": "Python 3",
   "language": "python",
   "name": "python3"
  },
  "language_info": {
   "codemirror_mode": {
    "name": "ipython",
    "version": 3
   },
   "file_extension": ".py",
   "mimetype": "text/x-python",
   "name": "python",
   "nbconvert_exporter": "python",
   "pygments_lexer": "ipython3",
   "version": "3.12.3"
  }
 },
 "nbformat": 4,
 "nbformat_minor": 2
}
