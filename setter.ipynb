{
 "cells": [
  {
   "cell_type": "code",
   "execution_count": 13,
   "metadata": {},
   "outputs": [],
   "source": [
    "import numpy as np\n",
    "import pandas as pd"
   ]
  },
  {
   "cell_type": "code",
   "execution_count": 14,
   "metadata": {},
   "outputs": [],
   "source": [
    "data = pd.read_csv(\"games.csv\")"
   ]
  },
  {
   "cell_type": "code",
   "execution_count": 15,
   "metadata": {},
   "outputs": [],
   "source": [
    "#sort data by score-rank\n",
    "# data = data.sort_values(by=['Negative'], ascending=False)\n",
    "# get the top 1000 games\n",
    "# data = data.head(1000)\n",
    "# data.head(10)[['AppID', 'Positive', 'Negative', 'Score rank', 'Achievements', 'Recommendations']]"
   ]
  },
  {
   "cell_type": "code",
   "execution_count": 16,
   "metadata": {},
   "outputs": [
    {
     "data": {
      "text/plain": [
       "Index(['AppID', 'Name', 'Release date', 'Estimated owners', 'Peak CCU',\n",
       "       'Required age', 'Price', 'DiscountDLC count', 'About the game',\n",
       "       'Supported languages', 'Full audio languages', 'Reviews',\n",
       "       'Header image', 'Website', 'Support url', 'Support email', 'Windows',\n",
       "       'Mac', 'Linux', 'Metacritic score', 'Metacritic url', 'User score',\n",
       "       'Positive', 'Negative', 'Score rank', 'Achievements', 'Recommendations',\n",
       "       'Notes', 'Average playtime forever', 'Average playtime two weeks',\n",
       "       'Median playtime forever', 'Median playtime two weeks', 'Developers',\n",
       "       'Publishers', 'Categories', 'Genres', 'Tags', 'Screenshots', 'Movies'],\n",
       "      dtype='object')"
      ]
     },
     "execution_count": 16,
     "metadata": {},
     "output_type": "execute_result"
    }
   ],
   "source": [
    "data.columns"
   ]
  },
  {
   "cell_type": "code",
   "execution_count": 23,
   "metadata": {},
   "outputs": [
    {
     "data": {
      "text/html": [
       "<div>\n",
       "<style scoped>\n",
       "    .dataframe tbody tr th:only-of-type {\n",
       "        vertical-align: middle;\n",
       "    }\n",
       "\n",
       "    .dataframe tbody tr th {\n",
       "        vertical-align: top;\n",
       "    }\n",
       "\n",
       "    .dataframe thead th {\n",
       "        text-align: right;\n",
       "    }\n",
       "</style>\n",
       "<table border=\"1\" class=\"dataframe\">\n",
       "  <thead>\n",
       "    <tr style=\"text-align: right;\">\n",
       "      <th></th>\n",
       "      <th>AppID</th>\n",
       "      <th>Categories</th>\n",
       "    </tr>\n",
       "  </thead>\n",
       "  <tbody>\n",
       "    <tr>\n",
       "      <th>20200</th>\n",
       "      <td>Galactic Bowling</td>\n",
       "      <td>Single-player,Multi-player,Steam Achievements,...</td>\n",
       "    </tr>\n",
       "    <tr>\n",
       "      <th>655370</th>\n",
       "      <td>Train Bandit</td>\n",
       "      <td>Single-player,Steam Achievements,Full controll...</td>\n",
       "    </tr>\n",
       "    <tr>\n",
       "      <th>1732930</th>\n",
       "      <td>Jolt Project</td>\n",
       "      <td>Single-player</td>\n",
       "    </tr>\n",
       "    <tr>\n",
       "      <th>1355720</th>\n",
       "      <td>Henosis™</td>\n",
       "      <td>Single-player,Full controller support</td>\n",
       "    </tr>\n",
       "    <tr>\n",
       "      <th>1139950</th>\n",
       "      <td>Two Weeks in Painland</td>\n",
       "      <td>Single-player,Steam Achievements</td>\n",
       "    </tr>\n",
       "  </tbody>\n",
       "</table>\n",
       "</div>"
      ],
      "text/plain": [
       "                         AppID  \\\n",
       "20200         Galactic Bowling   \n",
       "655370            Train Bandit   \n",
       "1732930           Jolt Project   \n",
       "1355720               Henosis™   \n",
       "1139950  Two Weeks in Painland   \n",
       "\n",
       "                                                Categories  \n",
       "20200    Single-player,Multi-player,Steam Achievements,...  \n",
       "655370   Single-player,Steam Achievements,Full controll...  \n",
       "1732930                                      Single-player  \n",
       "1355720              Single-player,Full controller support  \n",
       "1139950                   Single-player,Steam Achievements  "
      ]
     },
     "execution_count": 23,
     "metadata": {},
     "output_type": "execute_result"
    }
   ],
   "source": [
    "Categories = data[['AppID', 'Categories']]\n",
    "Categories.head()\n"
   ]
  },
  {
   "cell_type": "code",
   "execution_count": 18,
   "metadata": {},
   "outputs": [
    {
     "data": {
      "text/html": [
       "<div>\n",
       "<style scoped>\n",
       "    .dataframe tbody tr th:only-of-type {\n",
       "        vertical-align: middle;\n",
       "    }\n",
       "\n",
       "    .dataframe tbody tr th {\n",
       "        vertical-align: top;\n",
       "    }\n",
       "\n",
       "    .dataframe thead th {\n",
       "        text-align: right;\n",
       "    }\n",
       "</style>\n",
       "<table border=\"1\" class=\"dataframe\">\n",
       "  <thead>\n",
       "    <tr style=\"text-align: right;\">\n",
       "      <th></th>\n",
       "      <th>AppID</th>\n",
       "      <th>Genres</th>\n",
       "    </tr>\n",
       "  </thead>\n",
       "  <tbody>\n",
       "    <tr>\n",
       "      <th>20200</th>\n",
       "      <td>Galactic Bowling</td>\n",
       "      <td>Casual,Indie,Sports</td>\n",
       "    </tr>\n",
       "    <tr>\n",
       "      <th>655370</th>\n",
       "      <td>Train Bandit</td>\n",
       "      <td>Action,Indie</td>\n",
       "    </tr>\n",
       "    <tr>\n",
       "      <th>1732930</th>\n",
       "      <td>Jolt Project</td>\n",
       "      <td>Action,Adventure,Indie,Strategy</td>\n",
       "    </tr>\n",
       "    <tr>\n",
       "      <th>1355720</th>\n",
       "      <td>Henosis™</td>\n",
       "      <td>Adventure,Casual,Indie</td>\n",
       "    </tr>\n",
       "    <tr>\n",
       "      <th>1139950</th>\n",
       "      <td>Two Weeks in Painland</td>\n",
       "      <td>Adventure,Indie</td>\n",
       "    </tr>\n",
       "  </tbody>\n",
       "</table>\n",
       "</div>"
      ],
      "text/plain": [
       "                         AppID                           Genres\n",
       "20200         Galactic Bowling              Casual,Indie,Sports\n",
       "655370            Train Bandit                     Action,Indie\n",
       "1732930           Jolt Project  Action,Adventure,Indie,Strategy\n",
       "1355720               Henosis™           Adventure,Casual,Indie\n",
       "1139950  Two Weeks in Painland                  Adventure,Indie"
      ]
     },
     "execution_count": 18,
     "metadata": {},
     "output_type": "execute_result"
    }
   ],
   "source": [
    "Genres = data[['AppID','Genres']]\n",
    "Genres.head()"
   ]
  },
  {
   "cell_type": "code",
   "execution_count": 19,
   "metadata": {},
   "outputs": [
    {
     "data": {
      "text/html": [
       "<div>\n",
       "<style scoped>\n",
       "    .dataframe tbody tr th:only-of-type {\n",
       "        vertical-align: middle;\n",
       "    }\n",
       "\n",
       "    .dataframe tbody tr th {\n",
       "        vertical-align: top;\n",
       "    }\n",
       "\n",
       "    .dataframe thead th {\n",
       "        text-align: right;\n",
       "    }\n",
       "</style>\n",
       "<table border=\"1\" class=\"dataframe\">\n",
       "  <thead>\n",
       "    <tr style=\"text-align: right;\">\n",
       "      <th></th>\n",
       "      <th>AppID</th>\n",
       "      <th>Tags</th>\n",
       "    </tr>\n",
       "  </thead>\n",
       "  <tbody>\n",
       "    <tr>\n",
       "      <th>20200</th>\n",
       "      <td>Galactic Bowling</td>\n",
       "      <td>Indie,Casual,Sports,Bowling</td>\n",
       "    </tr>\n",
       "    <tr>\n",
       "      <th>655370</th>\n",
       "      <td>Train Bandit</td>\n",
       "      <td>Indie,Action,Pixel Graphics,2D,Retro,Arcade,Sc...</td>\n",
       "    </tr>\n",
       "    <tr>\n",
       "      <th>1732930</th>\n",
       "      <td>Jolt Project</td>\n",
       "      <td>NaN</td>\n",
       "    </tr>\n",
       "    <tr>\n",
       "      <th>1355720</th>\n",
       "      <td>Henosis™</td>\n",
       "      <td>2D Platformer,Atmospheric,Surreal,Mystery,Puzz...</td>\n",
       "    </tr>\n",
       "    <tr>\n",
       "      <th>1139950</th>\n",
       "      <td>Two Weeks in Painland</td>\n",
       "      <td>Indie,Adventure,Nudity,Violent,Sexual Content,...</td>\n",
       "    </tr>\n",
       "  </tbody>\n",
       "</table>\n",
       "</div>"
      ],
      "text/plain": [
       "                         AppID  \\\n",
       "20200         Galactic Bowling   \n",
       "655370            Train Bandit   \n",
       "1732930           Jolt Project   \n",
       "1355720               Henosis™   \n",
       "1139950  Two Weeks in Painland   \n",
       "\n",
       "                                                      Tags  \n",
       "20200                          Indie,Casual,Sports,Bowling  \n",
       "655370   Indie,Action,Pixel Graphics,2D,Retro,Arcade,Sc...  \n",
       "1732930                                                NaN  \n",
       "1355720  2D Platformer,Atmospheric,Surreal,Mystery,Puzz...  \n",
       "1139950  Indie,Adventure,Nudity,Violent,Sexual Content,...  "
      ]
     },
     "execution_count": 19,
     "metadata": {},
     "output_type": "execute_result"
    }
   ],
   "source": [
    "Tags = data[['AppID','Tags']]\n",
    "Tags.head()"
   ]
  },
  {
   "cell_type": "code",
   "execution_count": 20,
   "metadata": {},
   "outputs": [],
   "source": [
    "Res_Categories = Categories.assign(Categories=data['Categories'].str.split(',')).explode('Categories')\n",
    "Res_Genres = Genres.assign(Genres=data['Genres'].str.split(',')).explode('Genres')\n",
    "Res_Tags = Tags.assign(Tags=data['Tags'].str.split(',')).explode('Tags')"
   ]
  },
  {
   "cell_type": "code",
   "execution_count": 21,
   "metadata": {},
   "outputs": [
    {
     "data": {
      "text/html": [
       "<div>\n",
       "<style scoped>\n",
       "    .dataframe tbody tr th:only-of-type {\n",
       "        vertical-align: middle;\n",
       "    }\n",
       "\n",
       "    .dataframe tbody tr th {\n",
       "        vertical-align: top;\n",
       "    }\n",
       "\n",
       "    .dataframe thead th {\n",
       "        text-align: right;\n",
       "    }\n",
       "</style>\n",
       "<table border=\"1\" class=\"dataframe\">\n",
       "  <thead>\n",
       "    <tr style=\"text-align: right;\">\n",
       "      <th></th>\n",
       "      <th>AppID</th>\n",
       "      <th>Categories</th>\n",
       "    </tr>\n",
       "  </thead>\n",
       "  <tbody>\n",
       "    <tr>\n",
       "      <th>20200</th>\n",
       "      <td>Galactic Bowling</td>\n",
       "      <td>Single-player</td>\n",
       "    </tr>\n",
       "    <tr>\n",
       "      <th>20200</th>\n",
       "      <td>Galactic Bowling</td>\n",
       "      <td>Multi-player</td>\n",
       "    </tr>\n",
       "    <tr>\n",
       "      <th>20200</th>\n",
       "      <td>Galactic Bowling</td>\n",
       "      <td>Steam Achievements</td>\n",
       "    </tr>\n",
       "    <tr>\n",
       "      <th>20200</th>\n",
       "      <td>Galactic Bowling</td>\n",
       "      <td>Partial Controller Support</td>\n",
       "    </tr>\n",
       "    <tr>\n",
       "      <th>655370</th>\n",
       "      <td>Train Bandit</td>\n",
       "      <td>Single-player</td>\n",
       "    </tr>\n",
       "  </tbody>\n",
       "</table>\n",
       "</div>"
      ],
      "text/plain": [
       "                   AppID                  Categories\n",
       "20200   Galactic Bowling               Single-player\n",
       "20200   Galactic Bowling                Multi-player\n",
       "20200   Galactic Bowling          Steam Achievements\n",
       "20200   Galactic Bowling  Partial Controller Support\n",
       "655370      Train Bandit               Single-player"
      ]
     },
     "execution_count": 21,
     "metadata": {},
     "output_type": "execute_result"
    }
   ],
   "source": [
    "Res_Categories.head()"
   ]
  },
  {
   "cell_type": "code",
   "execution_count": 22,
   "metadata": {},
   "outputs": [],
   "source": [
    "Res_Categories.to_csv(\"Categories.csv\")\n",
    "Res_Genres.to_csv(\"Genres.csv\")\n",
    "Res_Tags.to_csv(\"Tags.csv\")"
   ]
  }
 ],
 "metadata": {
  "kernelspec": {
   "display_name": "Python 3",
   "language": "python",
   "name": "python3"
  },
  "language_info": {
   "codemirror_mode": {
    "name": "ipython",
    "version": 3
   },
   "file_extension": ".py",
   "mimetype": "text/x-python",
   "name": "python",
   "nbconvert_exporter": "python",
   "pygments_lexer": "ipython3",
   "version": "3.12.3"
  }
 },
 "nbformat": 4,
 "nbformat_minor": 2
}
