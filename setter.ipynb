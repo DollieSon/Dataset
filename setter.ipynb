{
 "cells": [
  {
   "cell_type": "code",
   "execution_count": 1,
   "metadata": {},
   "outputs": [],
   "source": [
    "import numpy as np\n",
    "import pandas as pd"
   ]
  },
  {
   "cell_type": "code",
   "execution_count": 2,
   "metadata": {},
   "outputs": [],
   "source": [
    "data = pd.read_csv(\"games.csv\")"
   ]
  },
  {
   "cell_type": "code",
   "execution_count": 3,
   "metadata": {},
   "outputs": [
    {
     "data": {
      "text/plain": [
       "Index(['AppID', 'Name', 'Release date', 'Estimated owners', 'Peak CCU',\n",
       "       'Required age', 'Price', 'DiscountDLC count', 'About the game',\n",
       "       'Supported languages', 'Full audio languages', 'Reviews',\n",
       "       'Header image', 'Website', 'Support url', 'Support email', 'Windows',\n",
       "       'Mac', 'Linux', 'Metacritic score', 'Metacritic url', 'User score',\n",
       "       'Positive', 'Negative', 'Score rank', 'Achievements', 'Recommendations',\n",
       "       'Notes', 'Average playtime forever', 'Average playtime two weeks',\n",
       "       'Median playtime forever', 'Median playtime two weeks', 'Developers',\n",
       "       'Publishers', 'Categories', 'Genres', 'Tags', 'Screenshots', 'Movies'],\n",
       "      dtype='object')"
      ]
     },
     "execution_count": 3,
     "metadata": {},
     "output_type": "execute_result"
    }
   ],
   "source": [
    "data.columns"
   ]
  },
  {
   "cell_type": "code",
   "execution_count": 4,
   "metadata": {},
   "outputs": [],
   "source": [
    "Categories = data[['AppID', 'Categories']]\n",
    "Genres = data[['AppID','Genres']]\n",
    "Tags = data[['AppID','Tags']]"
   ]
  },
  {
   "cell_type": "code",
   "execution_count": 5,
   "metadata": {},
   "outputs": [],
   "source": [
    "Res_Categories = Categories.assign(Categories=data['Categories'].str.split(',')).explode('Categories')\n",
    "Res_Genres = Genres.assign(Genres=data['Genres'].str.split(',')).explode('Genres')\n",
    "Res_Tags = Tags.assign(Tags=data['Tags'].str.split(',')).explode('Tags')"
   ]
  },
  {
   "cell_type": "code",
   "execution_count": 6,
   "metadata": {},
   "outputs": [
    {
     "data": {
      "text/html": [
       "<div>\n",
       "<style scoped>\n",
       "    .dataframe tbody tr th:only-of-type {\n",
       "        vertical-align: middle;\n",
       "    }\n",
       "\n",
       "    .dataframe tbody tr th {\n",
       "        vertical-align: top;\n",
       "    }\n",
       "\n",
       "    .dataframe thead th {\n",
       "        text-align: right;\n",
       "    }\n",
       "</style>\n",
       "<table border=\"1\" class=\"dataframe\">\n",
       "  <thead>\n",
       "    <tr style=\"text-align: right;\">\n",
       "      <th></th>\n",
       "      <th>AppID</th>\n",
       "      <th>Categories</th>\n",
       "    </tr>\n",
       "  </thead>\n",
       "  <tbody>\n",
       "    <tr>\n",
       "      <th>20200</th>\n",
       "      <td>Galactic Bowling</td>\n",
       "      <td>Single-player</td>\n",
       "    </tr>\n",
       "    <tr>\n",
       "      <th>20200</th>\n",
       "      <td>Galactic Bowling</td>\n",
       "      <td>Multi-player</td>\n",
       "    </tr>\n",
       "    <tr>\n",
       "      <th>20200</th>\n",
       "      <td>Galactic Bowling</td>\n",
       "      <td>Steam Achievements</td>\n",
       "    </tr>\n",
       "    <tr>\n",
       "      <th>20200</th>\n",
       "      <td>Galactic Bowling</td>\n",
       "      <td>Partial Controller Support</td>\n",
       "    </tr>\n",
       "    <tr>\n",
       "      <th>655370</th>\n",
       "      <td>Train Bandit</td>\n",
       "      <td>Single-player</td>\n",
       "    </tr>\n",
       "  </tbody>\n",
       "</table>\n",
       "</div>"
      ],
      "text/plain": [
       "                   AppID                  Categories\n",
       "20200   Galactic Bowling               Single-player\n",
       "20200   Galactic Bowling                Multi-player\n",
       "20200   Galactic Bowling          Steam Achievements\n",
       "20200   Galactic Bowling  Partial Controller Support\n",
       "655370      Train Bandit               Single-player"
      ]
     },
     "execution_count": 6,
     "metadata": {},
     "output_type": "execute_result"
    }
   ],
   "source": [
    "Res_Categories.head()"
   ]
  },
  {
   "cell_type": "code",
   "execution_count": 7,
   "metadata": {},
   "outputs": [],
   "source": [
    "Res_Categories.to_csv(\"Categories.csv\")\n",
    "Res_Genres.to_csv(\"Genres.csv\")\n",
    "Res_Tags.to_csv(\"Tags.csv\")"
   ]
  }
 ],
 "metadata": {
  "kernelspec": {
   "display_name": "Python 3",
   "language": "python",
   "name": "python3"
  },
  "language_info": {
   "codemirror_mode": {
    "name": "ipython",
    "version": 3
   },
   "file_extension": ".py",
   "mimetype": "text/x-python",
   "name": "python",
   "nbconvert_exporter": "python",
   "pygments_lexer": "ipython3",
   "version": "3.12.3"
  }
 },
 "nbformat": 4,
 "nbformat_minor": 2
}
